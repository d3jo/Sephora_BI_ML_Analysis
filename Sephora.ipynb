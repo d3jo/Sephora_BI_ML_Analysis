{
 "cells": [
  {
   "cell_type": "code",
   "execution_count": 5,
   "id": "a00f53c5",
   "metadata": {},
   "outputs": [
    {
     "name": "stdout",
     "output_type": "stream",
     "text": [
      "Index(['product_id', 'product_name', 'brand_id', 'brand_name', 'loves_count',\n",
      "       'rating', 'reviews', 'size', 'variation_type', 'variation_value',\n",
      "       'variation_desc', 'ingredients', 'price_usd', 'value_price_usd',\n",
      "       'sale_price_usd', 'limited_edition', 'new', 'online_only',\n",
      "       'out_of_stock', 'sephora_exclusive', 'highlights', 'primary_category',\n",
      "       'secondary_category', 'tertiary_category', 'child_count',\n",
      "       'child_max_price', 'child_min_price'],\n",
      "      dtype='object')\n"
     ]
    }
   ],
   "source": [
    "import csv\n",
    "import pandas as pd\n",
    "\n",
    "df = pd.read_csv(\"product_info.csv\")\n",
    "print(df.columns)"
   ]
  },
  {
   "cell_type": "markdown",
   "id": "bfcdcfb8",
   "metadata": {},
   "source": [
    "**Hidden Gem Predictor**\n"
   ]
  },
  {
   "cell_type": "code",
   "execution_count": null,
   "id": "b14fd06a",
   "metadata": {},
   "outputs": [
    {
     "name": "stdout",
     "output_type": "stream",
     "text": [
      "Index(['product_id', 'product_name', 'brand_name', 'primary_category',\n",
      "       'rating', 'reviews', 'loves_count', 'price_usd'],\n",
      "      dtype='object')\n",
      "1025\n"
     ]
    }
   ],
   "source": [
    "# Make sure numeric columns are properly parsed\n",
    "df[\"rating\"] = pd.to_numeric(df[\"rating\"], errors=\"coerce\")\n",
    "df[\"reviews\"] = pd.to_numeric(df[\"reviews\"], errors=\"coerce\")\n",
    "df[\"price_usd\"] = pd.to_numeric(df[\"price_usd\"], errors=\"coerce\")\n",
    "\n",
    "# Apply your SQL conditions:\n",
    "# - rating >= 4.7\n",
    "# - reviews < 50 (handling NaN as 0)\n",
    "hidden_gems = (\n",
    "    df[(df[\"rating\"] >= 4.4) & (df[\"reviews\"].fillna(0) < 50)]\n",
    "    .sort_values([\"rating\", \"reviews\"], ascending=[False, True])\n",
    "    .loc[:, [\"product_id\", \"product_name\", \"brand_name\", \"primary_category\",\n",
    "             \"rating\", \"reviews\", \"loves_count\", \"price_usd\"]]\n",
    ")\n",
    "\n",
    "print(hidden_gems.columns) # Variables in the dataset.\n",
    "print(hidden_gems.shape[0]) # Number of training data."
   ]
  },
  {
   "cell_type": "code",
   "execution_count": 22,
   "id": "aa0853b0",
   "metadata": {},
   "outputs": [
    {
     "name": "stdout",
     "output_type": "stream",
     "text": [
      "              precision    recall  f1-score   support\n",
      "\n",
      "           0       0.89      0.99      0.93      1489\n",
      "           1       0.54      0.12      0.20       210\n",
      "\n",
      "    accuracy                           0.88      1699\n",
      "   macro avg       0.72      0.55      0.57      1699\n",
      "weighted avg       0.85      0.88      0.84      1699\n",
      "\n"
     ]
    },
    {
     "name": "stderr",
     "output_type": "stream",
     "text": [
      "C:\\Users\\User\\AppData\\Roaming\\Python\\Python312\\site-packages\\xgboost\\training.py:183: UserWarning: [11:30:29] WARNING: C:\\actions-runner\\_work\\xgboost\\xgboost\\src\\learner.cc:738: \n",
      "Parameters: { \"use_label_encoder\" } are not used.\n",
      "\n",
      "  bst.update(dtrain, iteration=i, fobj=obj)\n"
     ]
    }
   ],
   "source": [
    "import numpy as np\n",
    "from sklearn.model_selection import train_test_split\n",
    "from sklearn.preprocessing import OneHotEncoder, StandardScaler\n",
    "from sklearn.compose import ColumnTransformer\n",
    "from sklearn.pipeline import Pipeline\n",
    "from sklearn.impute import SimpleImputer\n",
    "from xgboost import XGBClassifier\n",
    "from sklearn.metrics import classification_report\n",
    "\n",
    "num_cols = [\"loves_count\", \"price_usd\", \"sale_price_usd\"]\n",
    "for c in num_cols:\n",
    "    df[c] = pd.to_numeric(df[c], errors=\"coerce\")\n",
    "\n",
    "\n",
    "# Create hidden gem label\n",
    "df[\"hidden_gem\"] = ((df[\"rating\"] >= 4.4) & (df[\"reviews\"].fillna(0) < 50)).astype(int)\n",
    "\n",
    "num_features = [\"price_usd\", \"sale_price_usd\", \"loves_count\"]\n",
    "cat_features = [\"brand_name\", \"primary_category\"]\n",
    "\n",
    "X = df[num_features + cat_features]\n",
    "y = df[\"hidden_gem\"]\n",
    "\n",
    "numeric_transformer = Pipeline(steps=[\n",
    "    (\"imputer\", SimpleImputer(strategy=\"median\")),\n",
    "    (\"scaler\", StandardScaler())\n",
    "])  \n",
    "\n",
    "categorical_transformer = Pipeline(steps=[ \n",
    "    (\"imputer\", SimpleImputer(strategy=\"most_frequent\")),\n",
    "    (\"onehot\", OneHotEncoder(handle_unknown=\"ignore\"))\n",
    "])  \n",
    "\n",
    "preprocessor = ColumnTransformer(\n",
    "    transformers=[\n",
    "        (\"num\", numeric_transformer, num_features),\n",
    "        (\"cat\", categorical_transformer, cat_features)\n",
    "    ])  \n",
    "\n",
    "\n",
    "model = Pipeline(steps=[\n",
    "    (\"preprocessor\", preprocessor),         \n",
    "    (\"model\", XGBClassifier(use_label_encoder=False, eval_metric=\"logloss\"))\n",
    "])  \n",
    "\n",
    "\n",
    "# Set 80 percent of the whole data as training data, and 20 percent as test data.\n",
    "X_train, X_test, y_train, y_test = train_test_split(X, y, test_size=0.2, random_state=42) \n",
    "model.fit(X_train, y_train)\n",
    "\n",
    "y_pred = model.predict(X_test)\n",
    "print(classification_report(y_test, y_pred))"
   ]
  }
 ],
 "metadata": {
  "kernelspec": {
   "display_name": "Python 3",
   "language": "python",
   "name": "python3"
  },
  "language_info": {
   "codemirror_mode": {
    "name": "ipython",
    "version": 3
   },
   "file_extension": ".py",
   "mimetype": "text/x-python",
   "name": "python",
   "nbconvert_exporter": "python",
   "pygments_lexer": "ipython3",
   "version": "3.12.8"
  }
 },
 "nbformat": 4,
 "nbformat_minor": 5
}
